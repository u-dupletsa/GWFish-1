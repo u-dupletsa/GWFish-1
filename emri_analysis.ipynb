{
 "cells": [
  {
   "cell_type": "markdown",
   "metadata": {},
   "source": [
    "# Welcome to your GWFish tutorial"
   ]
  },
  {
   "cell_type": "markdown",
   "metadata": {},
   "source": [
    "## Disclaimer: no need to install anything, you just need your Google account :-)"
   ]
  },
  {
   "cell_type": "markdown",
   "metadata": {},
   "source": [
    "Install this branch of GWFish from my GitHub repo, where I modified the original GWfish to take detector-frame masses (so you don't need redshift info) and NO Earth rotation. If you want any modifications, ask !"
   ]
  },
  {
   "cell_type": "code",
   "execution_count": null,
   "metadata": {},
   "outputs": [],
   "source": [
    "! pip install -q git+https://github.com/u-dupletsa/GWFish-1"
   ]
  },
  {
   "cell_type": "code",
   "execution_count": null,
   "metadata": {},
   "outputs": [],
   "source": [
    "! pip install -q lalsuite"
   ]
  },
  {
   "cell_type": "code",
   "execution_count": null,
   "metadata": {},
   "outputs": [],
   "source": [
    "import GWFish.modules as gw\n",
    "import numpy as np\n",
    "import matplotlib.pyplot as plt\n",
    "import pandas as pd\n",
    "import yaml"
   ]
  },
  {
   "cell_type": "markdown",
   "metadata": {},
   "source": [
    "## Create injection dataset"
   ]
  },
  {
   "cell_type": "code",
   "execution_count": null,
   "metadata": {},
   "outputs": [],
   "source": [
    "# Function to create your injection set\n",
    "# mass1, mass2: masses in Msol in detector-frame\n",
    "# dL: distance in Mpc\n",
    "# a1, a2: dimensionless spins\n",
    "# nev: number of events to generate\n",
    "\n",
    "def create_your_injection_set(mass1, mass2, dL, a1, a2, nev):\n",
    "    df = {\n",
    "    'mass_1': mass1*np.ones(nev),\n",
    "    'mass_2': mass2*np.ones(nev),\n",
    "    'luminosity_distance': dL*np.ones(nev),\n",
    "    'dec': np.arcsin(np.random.uniform(-1., 1., nev)),\n",
    "    'ra': np.random.uniform(0., 2*np.pi, nev),\n",
    "    'theta_jn': np.arccos(np.random.uniform(-1., 1., nev)),\n",
    "    'psi': np.random.uniform(0., np.pi, nev),\n",
    "    'phase': np.random.uniform(0., 2*np.pi, nev),\n",
    "    'geocent_time': np.random.uniform(2051222400, 2051222400 + 365*24*60*60, nev), # from Jan 1 2035\n",
    "    'a_1': a1*np.ones(nev),\n",
    "    'a_2': a2*np.ones(nev)\n",
    "    }\n",
    "    df = pd.DataFrame(df)\n",
    "    return df\n",
    "# It returns a pandas dataframe with the parameters of the injections, which is what GWfish takes as injection"
   ]
  },
  {
   "cell_type": "code",
   "execution_count": null,
   "metadata": {},
   "outputs": [],
   "source": [
    "np.random.seed(42) # fix so you can obtain the same dataset every time you run the code\n",
    "# Create your dataset of injections\n",
    "m1 = 50\n",
    "m2 = 25\n",
    "dL = 100\n",
    "a1 = 0.9\n",
    "a2 = 0.7\n",
    "# all the other parameters get automatically randomized\n",
    "my_dataset_lowq = create_your_injection_set(m1, m2, dL, a1, a2, 50)\n",
    "my_dataset_extremeq = create_your_injection_set(100, 0.0001, dL, a1, a2, 50)"
   ]
  },
  {
   "cell_type": "code",
   "execution_count": null,
   "metadata": {},
   "outputs": [],
   "source": [
    "Msol = 1.9885e30\n",
    "c = 299792458.\n",
    "G = 6.674e-11\n",
    "\n",
    "def fisco(mass1, mass2):\n",
    "    M = (mass1 + mass2) * Msol\n",
    "    return 1 / (np.pi) * c ** 3 / (G * M) / 6 ** 1.5"
   ]
  },
  {
   "cell_type": "code",
   "execution_count": null,
   "metadata": {},
   "outputs": [],
   "source": [
    "# Calculate the ISCO frequency for the injections, so to know when to cut the frequency vector at the higher end\n",
    "# The frequency vectors starts at 3Hz\n",
    "freq_max_lowq = fisco(50, 25)\n",
    "print('The ISCO frequency for low q is:', freq_max_lowq)\n",
    "freq_max_extremeq = fisco(100, 0.0001)\n",
    "print('The ISCO frequency for extreme q is:', freq_max_extremeq)"
   ]
  },
  {
   "cell_type": "code",
   "execution_count": null,
   "metadata": {},
   "outputs": [],
   "source": [
    "# Create folder where to store the info about the detector configuration\n",
    "! mkdir my_yaml_files"
   ]
  },
  {
   "cell_type": "code",
   "execution_count": null,
   "metadata": {},
   "outputs": [],
   "source": [
    "# Create your detector configuration\n",
    "dict_template = {'ET_HF':{'lat':(40 + 31. / 60 ) * np.pi / 180.,\n",
    "                    'lon':(9 + 25. / 60) * np.pi / 180.,\n",
    "                    'opening_angle':np.pi / 3.,\n",
    "                    'azimuth':70.5674 * np.pi / 180.,\n",
    "                    'psd_data':'ET_10_HF_psd.txt',\n",
    "                    'duty_factor':0.85,\n",
    "                    'detector_class':'earthDelta',\n",
    "                    'plotrange':'10, 1000, 1e-25, 1e-20',\n",
    "                    'fmin':3,\n",
    "                    'fmax':int(freq_max_lowq), ###### CHANGE THIS ACCORDING TO YOUR F_ISCO!!! ######\n",
    "                    'spacing':'geometric',\n",
    "                    'df':1/4,\n",
    "                    'npoints':5000\n",
    "    }}\n",
    "with open('my_yaml_files/et_hf_detector_lowq.yaml', 'w') as my_yaml_file:\n",
    "            yaml.dump(dict_template, my_yaml_file)\n",
    "# this is the file to pass to GWFish where it will find the detector configuration infos\n",
    "ConfigDet_lowq = 'my_yaml_files/et_hf_detector_lowq.yaml'"
   ]
  },
  {
   "cell_type": "code",
   "execution_count": null,
   "metadata": {},
   "outputs": [],
   "source": [
    "# Create your detector configuration\n",
    "dict_template = {'ET_HF':{'lat':(40 + 31. / 60 ) * np.pi / 180.,\n",
    "                    'lon':(9 + 25. / 60) * np.pi / 180.,\n",
    "                    'opening_angle':np.pi / 3.,\n",
    "                    'azimuth':70.5674 * np.pi / 180.,\n",
    "                    'psd_data':'ET_10_HF_psd.txt',\n",
    "                    'duty_factor':0.85,\n",
    "                    'detector_class':'earthDelta',\n",
    "                    'plotrange':'10, 1000, 1e-25, 1e-20',\n",
    "                    'fmin':3,\n",
    "                    'fmax':int(freq_max_extremeq), ###### CHANGE THIS ACCORDING TO YOUR F_ISCO!!! ######\n",
    "                    'spacing':'geometric',\n",
    "                    'df':1/4,\n",
    "                    'npoints':5000\n",
    "    }}\n",
    "with open('my_yaml_files/et_hf_detector_extremeq.yaml', 'w') as my_yaml_file:\n",
    "            yaml.dump(dict_template, my_yaml_file)\n",
    "# this is the file to pass to GWFish where it will find the detector configuration infos\n",
    "ConfigDet_extremeq = 'my_yaml_files/et_hf_detector_extremeq.yaml'"
   ]
  },
  {
   "cell_type": "code",
   "execution_count": null,
   "metadata": {},
   "outputs": [],
   "source": [
    "# Create folder where to save gwfish results\n",
    "! mkdir my_gwfish_results"
   ]
  },
  {
   "cell_type": "code",
   "execution_count": null,
   "metadata": {},
   "outputs": [],
   "source": [
    "data_folder = 'my_gwfish_results'"
   ]
  },
  {
   "cell_type": "code",
   "execution_count": null,
   "metadata": {},
   "outputs": [],
   "source": [
    "waveform = 'TaylorF2'\n",
    "fisher_parameters = ['mass_1', 'mass_2', 'luminosity_distance', 'dec', 'ra', 'theta_jn', 'psi', 'phase', 'geocent_time',\n",
    "                    'a_1', 'a_2']"
   ]
  },
  {
   "cell_type": "code",
   "execution_count": null,
   "metadata": {},
   "outputs": [],
   "source": [
    "# Analyze the Fisher matrix for the low q dataset\n",
    "network = gw.detection.Network(detector_ids = ['ET_HF'], detection_SNR = (0., 8.), config = ConfigDet_lowq)\n",
    "name_for_output_label_lowq = 'my_injections_lowq'\n",
    "gw.fishermatrix.analyze_and_save_to_txt(network = network,\n",
    "                                            parameter_values  = my_dataset_lowq,\n",
    "                                            fisher_parameters = fisher_parameters, \n",
    "                                            sub_network_ids_list = [[0]],\n",
    "                                            population_name = name_for_output_label_lowq,\n",
    "                                            waveform_model = waveform,\n",
    "                                            save_path = data_folder,\n",
    "                                            save_matrices = False)"
   ]
  },
  {
   "cell_type": "code",
   "execution_count": 74,
   "metadata": {},
   "outputs": [
    {
     "name": "stderr",
     "output_type": "stream",
     "text": [
      "100%|██████████| 50/50 [01:28<00:00,  1.77s/it]\n"
     ]
    }
   ],
   "source": [
    "# Analyze the Fisher matrix for the extremely low q dataset\n",
    "network = gw.detection.Network(detector_ids = ['ET_HF'], detection_SNR = (0., 8.), config = ConfigDet_extremeq)\n",
    "name_for_output_label_extremeq = 'my_injections_extremeq'\n",
    "gw.fishermatrix.analyze_and_save_to_txt(network = network,\n",
    "                                            parameter_values  = my_dataset_extremeq,\n",
    "                                            fisher_parameters = fisher_parameters, \n",
    "                                            sub_network_ids_list = [[0]],\n",
    "                                            population_name = name_for_output_label_extremeq,\n",
    "                                            waveform_model = waveform,\n",
    "                                            save_path = data_folder,\n",
    "                                            save_matrices = False)"
   ]
  },
  {
   "cell_type": "code",
   "execution_count": null,
   "metadata": {},
   "outputs": [],
   "source": [
    "# these are the labels of the columns of the gwfish output\n",
    "lbs = ['network_SNR', 'mass_1', 'mass_2', 'luminosity_distance', 'dec', 'ra', 'theta_jn', 'psi', 'phase', 'geocent_time', 'a_1', 'a_2',\n",
    "       'err_mass_1', 'err_mass_2', 'err_luminosity_distance', 'err_dec', 'err_ra', 'err_theta_jn', 'err_psi', 'err_phase',\n",
    "       'err_geocent_time', 'err_a_1', 'err_a_2', 'err_sky_loc']"
   ]
  },
  {
   "cell_type": "code",
   "execution_count": null,
   "metadata": {},
   "outputs": [],
   "source": [
    "my_output_lowq = pd.read_csv('%s/Errors_ET_HF_%s_SNR8.txt' %(data_folder, name_for_output_label_lowq), names = lbs, sep = ' ', skiprows = 1)\n",
    "my_output_lowq = my_output_lowq.dropna() #make sure you jus avoid problematic events wuth NaNs"
   ]
  },
  {
   "cell_type": "code",
   "execution_count": null,
   "metadata": {},
   "outputs": [],
   "source": [
    "# Visualize the results\n",
    "my_output_lowq.head(10)"
   ]
  },
  {
   "cell_type": "code",
   "execution_count": null,
   "metadata": {},
   "outputs": [],
   "source": [
    "my_output_extremeq = pd.read_csv('%s/Errors_ET_HF_%s_SNR8.txt' %(data_folder, name_for_output_label_extremeq), names = lbs, sep = ' ', skiprows = 1)\n",
    "my_output_extremeq = my_output_extremeq.dropna() #make sure you jus avoid problematic events wuth NaNs"
   ]
  },
  {
   "cell_type": "code",
   "execution_count": null,
   "metadata": {},
   "outputs": [],
   "source": [
    "sub_list_params = ['mass_1', 'mass_2', 'a_1', 'a_2'] # params to plot!"
   ]
  },
  {
   "cell_type": "code",
   "execution_count": null,
   "metadata": {},
   "outputs": [],
   "source": [
    "fig, axs = plt.subplots(2, 2, figsize = (10, 6))\n",
    "my_bins = np.logspace(-8, 3, 20)\n",
    "for i, param in enumerate(sub_list_params):\n",
    "    axs[i//2, i%2].hist(my_output_lowq['err_' + param] / my_output_lowq[param], bins = my_bins, alpha = 0.5, label = 'm1 = 50, m2 = 25, q = 2')\n",
    "    axs[i//2, i%2].hist(my_output_extremeq['err_' + param] / my_output_extremeq[param], bins = my_bins, alpha = 0.5, label = 'm1 = 100, m2 = 0.0001, q = 1e6')\n",
    "    axs[i//2, i%2].set_xlabel('relative error on ' + param)\n",
    "    axs[i//2, i%2].legend()\n",
    "    axs[i//2, i%2].set_xscale('log')\n",
    "\n",
    "plt.tight_layout()\n",
    "plt.show() "
   ]
  },
  {
   "cell_type": "code",
   "execution_count": null,
   "metadata": {},
   "outputs": [],
   "source": []
  }
 ],
 "metadata": {
  "kernelspec": {
   "display_name": "gwfish_test_env",
   "language": "python",
   "name": "python3"
  },
  "language_info": {
   "codemirror_mode": {
    "name": "ipython",
    "version": 3
   },
   "file_extension": ".py",
   "mimetype": "text/x-python",
   "name": "python",
   "nbconvert_exporter": "python",
   "pygments_lexer": "ipython3",
   "version": "3.10.13"
  }
 },
 "nbformat": 4,
 "nbformat_minor": 2
}
